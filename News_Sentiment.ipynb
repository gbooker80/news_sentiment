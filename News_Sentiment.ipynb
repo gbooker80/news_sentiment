{
 "cells": [
  {
   "cell_type": "markdown",
   "metadata": {},
   "source": [
    "# News Sentiment"
   ]
  },
  {
   "cell_type": "code",
   "execution_count": 4,
   "metadata": {
    "collapsed": true
   },
   "outputs": [],
   "source": [
    "import numpy as np\n",
    "import pandas as pd\n",
    "import matplotlib.pyplot as plt\n",
    "import json\n",
    "import tweepy\n",
    "import time\n",
    "import seaborn as sns\n",
    "%matplotlib inline"
   ]
  },
  {
   "cell_type": "code",
   "execution_count": 5,
   "metadata": {
    "collapsed": true
   },
   "outputs": [],
   "source": [
    "from vaderSentiment.vaderSentiment import SentimentIntensityAnalyzer\n",
    "analyzer = SentimentIntensityAnalyzer()"
   ]
  },
  {
   "cell_type": "code",
   "execution_count": 6,
   "metadata": {
    "collapsed": true
   },
   "outputs": [],
   "source": [
    "consumer_key = \"fnGDpPanYjjfKnhXpHd5wmrwU\"\n",
    "consumer_secret = \"f1xJdl56C64ASOxJztpM8ya8jc4y4xciBEiMl8WgBdLh3JUhV7\"\n",
    "access_token = \"937017530635259904-xYitsiBszty5z7r0oGYQCnjFncfVwpS\"\n",
    "access_token_secret = \"X8LVmIqevu7n4oPULS8Pf5lNfuosCTmaj8tRhZln4Zddn\""
   ]
  },
  {
   "cell_type": "code",
   "execution_count": 15,
   "metadata": {},
   "outputs": [],
   "source": [
    "auth = tweepy.OAuthHandler(consumer_key, consumer_secret)\n",
    "auth.set_access_token(access_token, access_token_secret)\n",
    "api = tweepy.API(auth, parser=tweepy.parsers.JSONParser())\n",
    "\n",
    "news_source = [\"Fox\",\"CNN\",\"BBC\",\"CBS\",\"NYT\"]\n",
    "target_terms = (\"@BBC\",\"@CBSNews\",\"@CNN\",\"@FoxNews\", \"@nytimes\")\n",
    "\n",
    "min_tweets = 5\n",
    "max_tweets = 10000\n",
    "max_followers = 2500\n",
    "max_following = 2500\n",
    "lang = \"en\""
   ]
  },
  {
   "cell_type": "code",
   "execution_count": 12,
   "metadata": {
    "collapsed": true
   },
   "outputs": [],
   "source": [
    "sentiment_array = []\n",
    "oldest_tweet = \"\""
   ]
  },
  {
   "cell_type": "code",
   "execution_count": 17,
   "metadata": {},
   "outputs": [
    {
     "name": "stdout",
     "output_type": "stream",
     "text": [
      "{'User': '@BBC', 'Compound': 0.24053225806451614, 'Positive': 0.10222119815668204, 'Neutral': 0.016543778801843319, 'Negative': 0.88123502304147461, 'Tweet Count': 434}\n",
      "\n",
      "{'User': '@CBSNews', 'Compound': -0.015873076923076927, 'Positive': 0.088115384615384609, 'Neutral': 0.10473076923076922, 'Negative': 0.80707692307692314, 'Tweet Count': 520}\n",
      "\n",
      "{'User': '@CNN', 'Compound': -0.039830263157894737, 'Positive': 0.065206766917293227, 'Neutral': 0.091710526315789492, 'Negative': 0.8431203007518796, 'Tweet Count': 532}\n",
      "\n",
      "{'User': '@FoxNews', 'Compound': -0.091206704980842906, 'Positive': 0.072890804597701142, 'Neutral': 0.10607088122605364, 'Negative': 0.82105747126436779, 'Tweet Count': 522}\n",
      "\n",
      "{'User': '@nytimes', 'Compound': 0.033866098081023449, 'Positive': 0.088805970149253732, 'Neutral': 0.056776119402985076, 'Negative': 0.85441791044776128, 'Tweet Count': 469}\n",
      "\n"
     ]
    }
   ],
   "source": [
    "for target in target_terms:\n",
    "\n",
    "    compound_list = []\n",
    "    positive_list = []\n",
    "    negative_list = []\n",
    "    neutral_list = []\n",
    "    \n",
    "    for x in range(10):\n",
    "        public_tweets = api.search(target, count=100, result_type=\"recent\")\n",
    "        \n",
    "        for tweet in public_tweets[\"statuses\"]:\n",
    "\n",
    "            # Use filters to check if user meets conditions\n",
    "            if (tweet[\"user\"][\"followers_count\"] < max_followers and\n",
    "                tweet[\"user\"][\"statuses_count\"] > min_tweets and\n",
    "                tweet[\"user\"][\"statuses_count\"] < max_tweets and\n",
    "                tweet[\"user\"][\"friends_count\"] < max_following and\n",
    "                    tweet[\"user\"][\"lang\"] == lang):\n",
    "\n",
    "                # Run Vader Analysis on each tweet\n",
    "                compound = analyzer.polarity_scores(tweet[\"text\"])[\"compound\"]\n",
    "                pos = analyzer.polarity_scores(tweet[\"text\"])[\"pos\"]\n",
    "                neu = analyzer.polarity_scores(tweet[\"text\"])[\"neu\"]\n",
    "                neg = analyzer.polarity_scores(tweet[\"text\"])[\"neg\"]\n",
    "\n",
    "                # Add each value to the appropriate array\n",
    "                compound_list.append(compound)\n",
    "                positive_list.append(pos)\n",
    "                negative_list.append(neg)\n",
    "                neutral_list.append(neu)\n",
    "            #Reassign the the oldest tweet (i.e. the max_id)\n",
    "            oldest_tweet = str(int(tweet[\"id_str\"]) - 1)\n",
    "    \n",
    "    # Store the Average Sentiments\n",
    "    sentiment = {\"User\": target,\n",
    "                 \"Compound\": np.mean(compound_list),\n",
    "                 \"Positive\": np.mean(positive_list),\n",
    "                 \"Neutral\": np.mean(negative_list),\n",
    "                 \"Negative\": np.mean(neutral_list),\n",
    "                 \"Tweet Count\": len(compound_list)}\n",
    "\n",
    "    # Print the Sentiments\n",
    "    print(sentiment)\n",
    "    print(\"\")\n"
   ]
  },
  {
   "cell_type": "code",
   "execution_count": null,
   "metadata": {
    "collapsed": true
   },
   "outputs": [],
   "source": []
  }
 ],
 "metadata": {
  "kernelspec": {
   "display_name": "Python 3",
   "language": "python",
   "name": "python3"
  },
  "language_info": {
   "codemirror_mode": {
    "name": "ipython",
    "version": 3
   },
   "file_extension": ".py",
   "mimetype": "text/x-python",
   "name": "python",
   "nbconvert_exporter": "python",
   "pygments_lexer": "ipython3",
   "version": "3.6.2"
  }
 },
 "nbformat": 4,
 "nbformat_minor": 2
}
